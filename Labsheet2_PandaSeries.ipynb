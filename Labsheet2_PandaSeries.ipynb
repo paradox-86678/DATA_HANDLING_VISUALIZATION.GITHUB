{
  "nbformat": 4,
  "nbformat_minor": 0,
  "metadata": {
    "colab": {
      "provenance": [],
      "include_colab_link": true
    },
    "kernelspec": {
      "name": "python3",
      "display_name": "Python 3"
    },
    "language_info": {
      "name": "python"
    }
  },
  "cells": [
    {
      "cell_type": "markdown",
      "metadata": {
        "id": "view-in-github",
        "colab_type": "text"
      },
      "source": [
        "<a href=\"https://colab.research.google.com/github/paradox-86678/DATA_HANDLING_VISUALIZATION.GITHUB/blob/main/Labsheet2_PandaSeries.ipynb\" target=\"_parent\"><img src=\"https://colab.research.google.com/assets/colab-badge.svg\" alt=\"Open In Colab\"/></a>"
      ]
    },
    {
      "cell_type": "code",
      "execution_count": null,
      "metadata": {
        "colab": {
          "base_uri": "https://localhost:8080/"
        },
        "id": "T0PL4887CNp6",
        "outputId": "3cb5adc5-f30f-41d3-9f06-5bfaf775a578"
      },
      "outputs": [
        {
          "output_type": "stream",
          "name": "stdout",
          "text": [
            "0    1.0\n",
            "1    7.2\n",
            "2    2.0\n",
            "dtype: float64\n"
          ]
        }
      ],
      "source": [
        "import pandas as pd\n",
        "a=[1,7.2,2]\n",
        "myvar=pd.Series(a)\n",
        "print(myvar)"
      ]
    },
    {
      "cell_type": "code",
      "source": [
        "s1=pd.Series([-3,-1,1,3,5,'gaurav',7.3])\n",
        "print(s1)"
      ],
      "metadata": {
        "colab": {
          "base_uri": "https://localhost:8080/"
        },
        "id": "IQfLmXdbDGbR",
        "outputId": "61ca0774-488a-4d6a-8613-8330a8862531"
      },
      "execution_count": null,
      "outputs": [
        {
          "output_type": "stream",
          "name": "stdout",
          "text": [
            "0        -3\n",
            "1        -1\n",
            "2         1\n",
            "3         3\n",
            "4         5\n",
            "5    gaurav\n",
            "6       7.3\n",
            "dtype: object\n"
          ]
        }
      ]
    },
    {
      "cell_type": "code",
      "source": [
        "myvar=pd.Series(a,index=['x','y','z'])\n",
        "print(myvar)\n",
        "print(myvar['y'])"
      ],
      "metadata": {
        "colab": {
          "base_uri": "https://localhost:8080/"
        },
        "id": "aPivTIGgF-b4",
        "outputId": "74786563-cc43-4832-ccc0-fbfbb76bc08d"
      },
      "execution_count": null,
      "outputs": [
        {
          "output_type": "stream",
          "name": "stdout",
          "text": [
            "x    1.0\n",
            "y    7.2\n",
            "z    2.0\n",
            "dtype: float64\n",
            "7.2\n"
          ]
        }
      ]
    },
    {
      "cell_type": "code",
      "source": [
        "calories={\n",
        "    \"day1\":420,\n",
        "    \"day2\":320,\n",
        "    \"day3\":620,\n",
        "}\n",
        "myvar=pd.Series(calories)\n",
        "print(myvar)"
      ],
      "metadata": {
        "colab": {
          "base_uri": "https://localhost:8080/"
        },
        "id": "YRT2m7uaGUMo",
        "outputId": "958efdf1-e284-4f90-f712-122c41421ee6"
      },
      "execution_count": null,
      "outputs": [
        {
          "output_type": "stream",
          "name": "stdout",
          "text": [
            "day1    420\n",
            "day2    320\n",
            "day3    620\n",
            "dtype: int64\n"
          ]
        }
      ]
    },
    {
      "cell_type": "code",
      "source": [
        "print(s1[[2,1,0]])"
      ],
      "metadata": {
        "colab": {
          "base_uri": "https://localhost:8080/"
        },
        "id": "dZ5m4oDDHbqu",
        "outputId": "05ea015a-d7b7-402b-a0db-5a101c08b289"
      },
      "execution_count": null,
      "outputs": [
        {
          "output_type": "stream",
          "name": "stdout",
          "text": [
            "2     1\n",
            "1    -1\n",
            "0    -3\n",
            "dtype: object\n"
          ]
        }
      ]
    },
    {
      "cell_type": "code",
      "source": [
        "s=pd.Series([1,2,3,4,5],index=['a','b','c','d','e'])\n",
        "print(s['a'])"
      ],
      "metadata": {
        "colab": {
          "base_uri": "https://localhost:8080/"
        },
        "id": "L4ltECIVHwu9",
        "outputId": "b6ceedd6-8761-429e-fd71-66447e302567"
      },
      "execution_count": null,
      "outputs": [
        {
          "output_type": "stream",
          "name": "stdout",
          "text": [
            "1\n"
          ]
        }
      ]
    },
    {
      "cell_type": "code",
      "source": [
        "data={\n",
        "    \"cal\":[420,390,360],\n",
        "    \"duration\":[50,40,45]\n",
        "}\n",
        "df=pd.DataFrame(data)\n",
        "print(df)"
      ],
      "metadata": {
        "colab": {
          "base_uri": "https://localhost:8080/"
        },
        "id": "y3we9winIHsO",
        "outputId": "e1f6ec73-6bc2-402b-b2e2-ccae77f46cb0"
      },
      "execution_count": null,
      "outputs": [
        {
          "output_type": "stream",
          "name": "stdout",
          "text": [
            "   cal  duration\n",
            "0  420        50\n",
            "1  390        40\n",
            "2  360        45\n"
          ]
        }
      ]
    },
    {
      "cell_type": "code",
      "source": [
        "data={\n",
        "    'Name':['Tom','Jack','Steve','Ricky'],\n",
        "    'Age':[28,34,29,42]\n",
        "}\n",
        "df=pd.DataFrame(data,index=['R1','R2','R3','R4'])\n",
        "print(df)"
      ],
      "metadata": {
        "id": "5hcLpeHoIgCt",
        "colab": {
          "base_uri": "https://localhost:8080/"
        },
        "outputId": "43fec203-4d66-4fa0-caf4-95f2d05d330e"
      },
      "execution_count": null,
      "outputs": [
        {
          "output_type": "stream",
          "name": "stdout",
          "text": [
            "     Name  Age\n",
            "R1    Tom   28\n",
            "R2   Jack   34\n",
            "R3  Steve   29\n",
            "R4  Ricky   42\n"
          ]
        }
      ]
    },
    {
      "cell_type": "code",
      "source": [
        "print(df.loc['R1'])"
      ],
      "metadata": {
        "colab": {
          "base_uri": "https://localhost:8080/"
        },
        "id": "Ke_MRhkyHQIi",
        "outputId": "fcb66667-52dc-4d27-834d-ac89c6e9b013"
      },
      "execution_count": null,
      "outputs": [
        {
          "output_type": "stream",
          "name": "stdout",
          "text": [
            "Name    Tom\n",
            "Age      28\n",
            "Name: R1, dtype: object\n"
          ]
        }
      ]
    },
    {
      "cell_type": "code",
      "source": [
        "df.info()"
      ],
      "metadata": {
        "colab": {
          "base_uri": "https://localhost:8080/"
        },
        "id": "8Y1p_J6HHUTp",
        "outputId": "183241ea-4041-40ca-ffd8-8359131e2e60"
      },
      "execution_count": null,
      "outputs": [
        {
          "output_type": "stream",
          "name": "stdout",
          "text": [
            "<class 'pandas.core.frame.DataFrame'>\n",
            "Index: 4 entries, R1 to R4\n",
            "Data columns (total 2 columns):\n",
            " #   Column  Non-Null Count  Dtype \n",
            "---  ------  --------------  ----- \n",
            " 0   Name    4 non-null      object\n",
            " 1   Age     4 non-null      int64 \n",
            "dtypes: int64(1), object(1)\n",
            "memory usage: 268.0+ bytes\n"
          ]
        }
      ]
    },
    {
      "cell_type": "code",
      "source": [
        "df['ID']=[10,10,30,58]\n",
        "print(df)"
      ],
      "metadata": {
        "colab": {
          "base_uri": "https://localhost:8080/"
        },
        "id": "pkPua1KdIEhi",
        "outputId": "bab20e74-cbb0-4b2d-db92-1d680b2b0aa1"
      },
      "execution_count": null,
      "outputs": [
        {
          "output_type": "stream",
          "name": "stdout",
          "text": [
            "     Name  Age  ID\n",
            "R1    Tom   28  10\n",
            "R2   Jack   34  10\n",
            "R3  Steve   29  30\n",
            "R4  Ricky   42  58\n"
          ]
        }
      ]
    },
    {
      "cell_type": "code",
      "source": [
        "df['ID'].unique()"
      ],
      "metadata": {
        "colab": {
          "base_uri": "https://localhost:8080/"
        },
        "id": "MquO0AkWIaEB",
        "outputId": "bf9ce487-9e2d-4c10-e5a0-5934404eabd2"
      },
      "execution_count": null,
      "outputs": [
        {
          "output_type": "execute_result",
          "data": {
            "text/plain": [
              "array([10, 30, 58])"
            ]
          },
          "metadata": {},
          "execution_count": 27
        }
      ]
    },
    {
      "cell_type": "code",
      "source": [
        "df['ID'].value_counts()"
      ],
      "metadata": {
        "colab": {
          "base_uri": "https://localhost:8080/"
        },
        "id": "bACptOZhIwEC",
        "outputId": "41d16945-de8a-4aa6-9067-826f07b1af12"
      },
      "execution_count": null,
      "outputs": [
        {
          "output_type": "execute_result",
          "data": {
            "text/plain": [
              "10    2\n",
              "30    1\n",
              "58    1\n",
              "Name: ID, dtype: int64"
            ]
          },
          "metadata": {},
          "execution_count": 28
        }
      ]
    },
    {
      "cell_type": "code",
      "source": [],
      "metadata": {
        "id": "PscT285yI6Rp"
      },
      "execution_count": null,
      "outputs": []
    }
  ]
}